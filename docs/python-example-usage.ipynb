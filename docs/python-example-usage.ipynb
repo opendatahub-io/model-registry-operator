{
 "cells": [
  {
   "cell_type": "markdown",
   "metadata": {},
   "source": []
  },
  {
   "cell_type": "markdown",
   "metadata": {},
   "source": [
    "Please note this just example usage of Model Registry Python code, not desciption of all the Python framework that Model Registry offers. \n",
    "\n",
    "## Installation\n",
    "Before we can do any work with Model Registry make sure that Model registry is installed and working. The very first thing we need to do we need load the Model Registry python library "
   ]
  },
  {
   "cell_type": "code",
   "execution_count": null,
   "metadata": {},
   "outputs": [],
   "source": [
    "%pip install --pre model-registry\n",
    "%pip install boto3\n",
    "%run example-utils.py"
   ]
  },
  {
   "cell_type": "markdown",
   "metadata": {},
   "source": [
    "## Connect to OpenShift\n",
    "Connect to the Openshift cluster capture some key information about access and Model Registry URLs"
   ]
  },
  {
   "cell_type": "code",
   "execution_count": null,
   "metadata": {},
   "outputs": [],
   "source": [
    "\n",
    "!oc login <host:8443> --username=<myuser> --password=<mypass>  # login into the openshift server\n",
    "\n",
    "!oc whoami -t # TOKEN\n",
    "!oc whoami   # USER \n",
    "\n",
    "# Grab registry's URL (change the name of registry accordingly in below command)\n",
    "#HOST\n",
    "!echo \"https://$(oc get routes -n istio-system -l app.kubernetes.io/name=modelregistry-public -o json | jq '.items[].status.ingress[].host | select(contains(\"-rest\"))')\" | tr -d '\"'"
   ]
  },
  {
   "cell_type": "markdown",
   "metadata": {},
   "source": [
    "## Set up Access to S3 for storage\n",
    "Configure the following for storing the models in S3 bucket. Currently Model Registry does not have any storage built into it, it is a index/metadata store only. providing default storage from Model Registry is on the roadmap in future versions."
   ]
  },
  {
   "cell_type": "code",
   "execution_count": null,
   "metadata": {},
   "outputs": [],
   "source": [
    "# lets download the a model from hugging face and store in S3 bucket\n",
    "# Edit the below few varibales to modify for your usecase\n",
    "\n",
    "aws_access_key_id=\"<YOUR_ACCESS_KEY>\"\n",
    "aws_secret_access_key=\"<YOUR_SECRET_KEY>\"\n",
    "aws_s3_endpoint=\"s3.us-east-1.amazonaws.com\"\n",
    "region_name='us-east-1'\n",
    "\n",
    "file_url = \"https://huggingface.co/tarilabs/mnist/resolve/v20231206163028/mnist.onnx\"  # Replace with actual file URL\n",
    "local_file_name = \"mnist.onnx\"      # Path to save the downloaded file locally\n",
    "\n",
    "# S3 bucket information\n",
    "bucket_name = \"rareddy-examples\"    # Replace with your S3 bucket name\n",
    "s3_file_name = \"models/mnist.onnx\"  # Name of the file to save in S3"
   ]
  },
  {
   "cell_type": "code",
   "execution_count": null,
   "metadata": {},
   "outputs": [],
   "source": [
    "import requests\n",
    "import boto3\n",
    "from botocore.exceptions import NoCredentialsError\n",
    "\n",
    "# connect to the S3\n",
    "s3 = boto3.client(\n",
    "    's3',\n",
    "    aws_access_key_id=aws_access_key_id,\n",
    "    aws_secret_access_key=aws_secret_access_key,\n",
    "    region_name=region_name\n",
    ")\n",
    "\n",
    "# Download the file from the web\n",
    "local_file = download_file(file_url, local_file_name)\n",
    "\n",
    "# Upload the downloaded file to S3\n",
    "s3.upload_file(local_file, bucket_name, s3_file_name)\n",
    "print(f\"File uploaded to S3 successfully: {s3_file_name}\")"
   ]
  },
  {
   "cell_type": "markdown",
   "metadata": {},
   "source": [
    "## Import and Connect to the Model Registry\n",
    "The next is to import the Python library and connect to Model Registry before you can \"register\" a model in Model Registry. Note that there can be more than one Model Registry in given Open Data Hub cluster with varying degrees of access. You may or may not have access to all the Model Registries that are available. Some could be public registries that are available for all the users and some may be available for certain business units or teams. Your access to given registry is controlled by permissions that are granted to you. If you see any access permissions please check your permissions.\n",
    "\n",
    "First step is to find Model Registry URL to connect to, use below to find the URL"
   ]
  },
  {
   "cell_type": "markdown",
   "metadata": {},
   "source": [
    "## Connecting to Model Registry\n",
    "You can connect to a secure Model Registry using the default constructor (recommended):"
   ]
  },
  {
   "cell_type": "code",
   "execution_count": null,
   "metadata": {},
   "outputs": [],
   "source": [
    "from model_registry import ModelRegistry\n",
    "import os\n",
    "\n",
    "# connect to the Model Registry\n",
    "#registry = ModelRegistry(\"<MR-HOST>\", author=\"<USER>\", user_token=\"<TOKEN>\")\n",
    "\n",
    "registry = ModelRegistry(\"https://modelregistry-public-rest.apps.rosa.rareddy-rosa.bd9q.p3.openshiftapps.com\", author=\"admin\", user_token=\"sha256~u2o60sVNjPGC9SJUfgCZXfhoHd3Be7rj62sKnH3BKVI\")"
   ]
  },
  {
   "cell_type": "markdown",
   "metadata": {},
   "source": [
    "# Registering models\n",
    "Use the following code to register your model in the Model Registry. Once registered, the model can be shared across teams and deployed for inference.\n",
    "\n",
    "When a model is stored in the Model Registry, it is assigned a name along with a version number that corresponds to the specific instance of the model. If you make updates or modifications to the model and create a new version, you can simply register this new version under the same model name.\n",
    "\n",
    "To uniquely identify each version of the model, it’s common for developers to use a unique identifier, such as a commit ID, that reflects the changes made in that version. The metadata can be any arbitary data that can help describe the model  "
   ]
  },
  {
   "cell_type": "code",
   "execution_count": null,
   "metadata": {},
   "outputs": [],
   "source": [
    "from model_registry import utils\n",
    "\n",
    "model = registry.register_model(\n",
    "    name=\"mnist\",                          # model name\n",
    "    uri=utils.s3_uri_from(endpoint=aws_s3_endpoint, bucket=bucket_name, region=region_name, path=s3_file_name), # where the model is stored in the S3 and bucket\n",
    "    version=\"1.0.0\",                       # model version\n",
    "    description=\"This is test model for demonstration purposes\", # description of the model\n",
    "    model_format_name=\"onnx\",              # model format\n",
    "    model_format_version=\"1\",              # model format version\n",
    "    storage_key=\"my-data-connection\",      # S3 connection details\n",
    "    metadata={                             # look at \"introduction\" on types of metadata to capture \n",
    "        \"int_key\": 1,                      \n",
    "        \"bool_key\": False,\n",
    "        \"float_key\": 3.14,\n",
    "        \"str_key\": \"str_value\",\n",
    "    }\n",
    ")"
   ]
  },
  {
   "cell_type": "code",
   "execution_count": null,
   "metadata": {},
   "outputs": [],
   "source": [
    "\n",
    "# add labels\n",
    "model.custom_properties = {\n",
    "    \"production\": \"\",\n",
    "    \"finance\": \"\",\n",
    "}\n",
    "registry.update(model)\n",
    "\n",
    "# view the model added to the registry\n",
    "model = registry.get_registered_model(\"mnist\")\n",
    "print(model)\n",
    "\n",
    "version = registry.get_model_version(\"mnist\", \"1.0.0\")\n",
    "print(version)"
   ]
  },
  {
   "cell_type": "markdown",
   "metadata": {},
   "source": [
    "## Deploy Model\n",
    "\n",
    "Switch over into Dashboard into Model Registry screen and find the model inside the dashboard and choose to deploy from the UI. Follow directions [here](./deploy-model.md)"
   ]
  }
 ],
 "metadata": {
  "kernelspec": {
   "display_name": "Python 3",
   "language": "python",
   "name": "python3"
  },
  "language_info": {
   "codemirror_mode": {
    "name": "ipython",
    "version": 3
   },
   "file_extension": ".py",
   "mimetype": "text/x-python",
   "name": "python",
   "nbconvert_exporter": "python",
   "pygments_lexer": "ipython3",
   "version": "3.12.4"
  }
 },
 "nbformat": 4,
 "nbformat_minor": 2
}
